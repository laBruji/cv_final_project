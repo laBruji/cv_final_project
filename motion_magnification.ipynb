{
  "cells": [
    {
      "cell_type": "code",
      "execution_count": 1,
      "metadata": {
        "id": "RBRKSgYYWjvX"
      },
      "outputs": [],
      "source": [
        "import numpy as np\n",
        "from numpy.fft import fft2, ifft2, fftshift, ifftshift\n",
        "from numpy import angle, real\n",
        "from numpy import exp, abs, pi, sqrt\n",
        "import matplotlib.pyplot as plt\n",
        "import cv2"
      ]
    },
    {
      "cell_type": "code",
      "execution_count": 9,
      "metadata": {
        "id": "UYgFksl8Wlrr"
      },
      "outputs": [],
      "source": [
        "\n",
        "def load_img(path, bw=False, width=200, height=200):\n",
        "  img = cv2.imread(path)\n",
        "  if bw:\n",
        "    img = cv2.cvtColor(img, cv2.COLOR_BGR2GRAY)\n",
        "  if width and height:\n",
        "    try:\n",
        "        img = cv2.resize(img, (height, width), interpolation=cv2.INTER_LINEAR)\n",
        "    except Exception as e:\n",
        "        print(e)\n",
        "    \n",
        "  return img"
      ]
    },
    {
      "cell_type": "code",
      "execution_count": 11,
      "metadata": {
        "id": "svT2YtWhWly6"
      },
      "outputs": [],
      "source": [
        "\n",
        "dataset_list = []\n",
        "dataset_size = 219\n",
        "for i in range(1, dataset_size+1):\n",
        "    path = f'./dataset/{i}.PNG' \n",
        "    # path = f'{i}.PNG' \n",
        "    img = load_img(path, width=int(2532/6), height=int(1170/6))\n",
        "    dataset_list.append(img)\n",
        "\n",
        "dataset = np.array(dataset_list)"
      ]
    },
    {
      "cell_type": "markdown",
      "metadata": {
        "id": "tjrcIiopWl58"
      },
      "source": [
        "Try first 10 images"
      ]
    },
    {
      "cell_type": "code",
      "execution_count": 23,
      "metadata": {
        "id": "4mR4lNv1NI4r"
      },
      "outputs": [],
      "source": [
        "# to try with small section\n",
        "dataset1 = np.array(dataset_list)\n",
        "frames = np.array(dataset1) / 255.\n",
        "numFrames = frames.shape[0]\n",
        "height = frames.shape[1]\n",
        "width = frames.shape[2]"
      ]
    },
    {
      "cell_type": "code",
      "execution_count": 19,
      "metadata": {
        "id": "OTdUPsH6PjZK"
      },
      "outputs": [],
      "source": [
        "def magnify_frames(frames, magnificationFactor=3, sigma=10, alpha=0.5):\n",
        "  # we will magnify windows of the video and aggregate the results\n",
        "  magnified = np.zeros_like(frames)\n",
        "\n",
        "  # meshgrid for computing Gaussian window\n",
        "  X, Y = np.meshgrid(np.arange(width), np.arange(height))\n",
        "\n",
        "  # iterate over windows of the frames\n",
        "  xRange = list(range(0, width, 2*sigma))\n",
        "  yRange = list(range(0, height, 2*sigma))\n",
        "  numWindows = len(xRange) * len(yRange)\n",
        "  windowIndex = 1\n",
        "\n",
        "  for y in yRange:\n",
        "      for x in xRange:\n",
        "          for channelIndex in range(3): # RGB channels\n",
        "              for frameIndex in range(numFrames):\n",
        "                  \n",
        "                  # create windowed frames\n",
        "                  diff = ( x - X ) ** 2 + ( y - Y ) ** 2\n",
        "                  gaussianMask = np.exp(-diff / (2*sigma**2)) / (1 / np.sqrt(2*np.pi * sigma ** 2))\n",
        "                  windowedFrames = gaussianMask * frames[frameIndex,:,:,channelIndex]\n",
        "              \n",
        "                  # initialize moving average of phase for current window/channel\n",
        "                  if frameIndex == 0:\n",
        "                      windowAveragePhase = angle(fft2(windowedFrames))\n",
        "                  \n",
        "                  windowDft = fft2(windowedFrames)\n",
        "                  \n",
        "                  # compute phase shift and constrain to [-pi, pi] since\n",
        "                  # angle space wraps around\n",
        "                  windowPhaseShift = angle(windowDft) - windowAveragePhase\n",
        "                  windowPhaseShift[windowPhaseShift > pi] = windowPhaseShift[windowPhaseShift > pi] - 2 * pi\n",
        "                  windowPhaseShift[windowPhaseShift < -pi] = windowPhaseShift[windowPhaseShift < -pi] + 2 * pi\n",
        "                  \n",
        "                  # magnify phase shift\n",
        "                  windowMagnifiedPhase = windowAveragePhase + windowPhaseShift * magnificationFactor\n",
        "                  \n",
        "                  # go back to image space\n",
        "                  windowMagnifiedDft = abs(windowDft) * np.exp(windowMagnifiedPhase*1j) \n",
        "                  windowMagnified = abs(ifft2(windowMagnifiedDft))\n",
        "                  \n",
        "                  # update moving average\n",
        "                  windowPhaseUnwrapped = windowAveragePhase + windowPhaseShift\n",
        "                  windowAveragePhase = alpha * windowAveragePhase + (1 - alpha) * windowPhaseUnwrapped\n",
        "                  \n",
        "                  # aggregate\n",
        "                  magnified[frameIndex,:,:,channelIndex] = magnified[frameIndex,:,:,channelIndex] + windowMagnified\n",
        "          \n",
        "  return magnified"
      ]
    },
    {
      "cell_type": "markdown",
      "metadata": {
        "id": "74r0nhFXQUBh"
      },
      "source": [
        "Time for 10 photos: 4m"
      ]
    },
    {
      "cell_type": "code",
      "execution_count": null,
      "metadata": {
        "id": "GRP89wYXNI4s"
      },
      "outputs": [],
      "source": [
        "magnified = magnify_frames(frames)"
      ]
    },
    {
      "cell_type": "code",
      "execution_count": null,
      "metadata": {
        "id": "deJLJBaBNI4t"
      },
      "outputs": [],
      "source": [
        "outputs = magnified / np.max(magnified)\n",
        "for channelIndex in range(3):\n",
        "    originalFrame = frames[0,:,:,channelIndex]\n",
        "    magnifiedFrame = outputs[0,:,:,channelIndex]\n",
        "    scale = np.std(originalFrame[:]) / np.std(magnifiedFrame[:])\n",
        "    originalMean = np.mean(originalFrame[:])\n",
        "    magnifiedMean = np.mean(magnifiedFrame[:])\n",
        "    outputs[:,:,:,channelIndex] = magnifiedMean + scale * (outputs[:,:,:,channelIndex] - magnifiedMean)\n",
        "\n",
        "outputs = np.clip(outputs, 0, 1)"
      ]
    },
    {
      "cell_type": "code",
      "execution_count": 22,
      "metadata": {
        "id": "DTh1ueF4NI4t"
      },
      "outputs": [],
      "source": [
        "for i in range(outputs.shape[0]):\n",
        "  cv2.imwrite(f'./results/img{i}.PNG', (outputs[i]*255).astype(np.uint8))"
      ]
    }
  ],
  "metadata": {
    "colab": {
      "name": "motion_magnification.ipynb",
      "provenance": []
    },
    "kernelspec": {
      "display_name": "Python 3",
      "name": "python3"
    },
    "language_info": {
      "codemirror_mode": {
        "name": "ipython",
        "version": 3
      },
      "file_extension": ".py",
      "mimetype": "text/x-python",
      "name": "python",
      "nbconvert_exporter": "python",
      "pygments_lexer": "ipython3",
      "version": "3.9.12"
    }
  },
  "nbformat": 4,
  "nbformat_minor": 0
}
